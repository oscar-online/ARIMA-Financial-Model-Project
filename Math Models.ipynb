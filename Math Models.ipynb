version https://git-lfs.github.com/spec/v1
oid sha256:2ca439710dc85ca92d687405b97e5a291c5ea82f9420cf66ca6f4ebbc2b9c277
size 291862
